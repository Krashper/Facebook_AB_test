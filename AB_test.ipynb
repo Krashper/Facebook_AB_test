{
 "cells": [
  {
   "cell_type": "markdown",
   "metadata": {},
   "source": [
    "# A/B-тест для компании Facebook"
   ]
  },
  {
   "cell_type": "markdown",
   "metadata": {},
   "source": [
    "## Тема:\n",
    "Недавно Facebook представил новую систему назначения ставок под названием «среднее назначение ставок» (тестовая группа) наряду с существующей системой «максимального назначения ставок» (контрольная группа). Эти системы назначения ставок определяют, какие объявления будут показываться пользователям в зависимости от того, сколько рекламодатели готовы заплатить.\n",
    "\n",
    "При «максимальном ценообразовании» рекламодатели указывают максимальную сумму, которую они готовы заплатить за каждое показывание. Например, рекламодатель может сказать: «Я готов заплатить максимум 10 долларов за каждое показывание».\n",
    "\n",
    "При «средней ставке» рекламодатели указывают среднюю сумму, которую они готовы платить за показы. Например, они могут сказать: «В среднем я готов платить 6 долларов за каждый показ».\n",
    "\n",
    "Вот в чём суть: в этом наборе данных мы собрали результаты этих двух стратегий назначения ставок за последние 40 дней, чтобы понять, какая из них более эффективна для показа рекламы целевой аудитории.\n",
    "\n",
    "## Бизнес-вызов: раскрытие мощи рекламы Facebook\n",
    "Как дальновидная компания, готовая произвести фурор в сфере рекламы на Facebook, мы стремимся найти наиболее выгодный подход для нашего бренда. Наши насущные вопросы:\n",
    "\n",
    "Максимизируйте количество кликов и покупок: какая стратегия поможет нам достичь нашей цели — увеличить количество кликов и покупок?\n",
    "Битва титанов: есть ли заметная и статистически значимая разница между двумя вариантами ставок?\n",
    "Начните с AB-тестирования: сегодня мы отправляемся в путешествие по миру открытий, основанных на данных, где столкновение титанов — средней ставки и максимальной ставки — будет тщательно изучено и оценено. Мы ищем идеи, которые определят будущее нашей стратегии рекламы в Facebook, используя данные в качестве ориентира и инновации в качестве оружия.\n",
    "\n",
    "Результаты этого AB-теста не только ответят на наши вопросы, но и станут предвестником славной эпохи в нашей рекламной деятельности на Facebook. Следите за изменениями, которые оставят след в мире цифровой рекламы.\n",
    "\n",
    "## Характеристики:\n",
    "* Показ: Количество показов за объявление.\n",
    "* Клик: количество кликов по объявлению.\n",
    "* Покупка: количество товаров, приобретенных после клика.\n",
    "* Заработок: Заработок после покупки."
   ]
  },
  {
   "cell_type": "markdown",
   "metadata": {},
   "source": [
    "## Загрузка и обзор датасета"
   ]
  },
  {
   "cell_type": "code",
   "execution_count": 12,
   "metadata": {},
   "outputs": [],
   "source": [
    "import pandas as pd\n",
    "import numpy as np\n",
    "import seaborn as sns\n",
    "import matplotlib.pyplot as plt\n",
    "%matplotlib inline"
   ]
  },
  {
   "cell_type": "code",
   "execution_count": 6,
   "metadata": {},
   "outputs": [
    {
     "name": "stdout",
     "output_type": "stream",
     "text": [
      "Длина датасета A: 40\n",
      "Длина датасета B: 40\n"
     ]
    },
    {
     "data": {
      "text/html": [
       "<div>\n",
       "<style scoped>\n",
       "    .dataframe tbody tr th:only-of-type {\n",
       "        vertical-align: middle;\n",
       "    }\n",
       "\n",
       "    .dataframe tbody tr th {\n",
       "        vertical-align: top;\n",
       "    }\n",
       "\n",
       "    .dataframe thead th {\n",
       "        text-align: right;\n",
       "    }\n",
       "</style>\n",
       "<table border=\"1\" class=\"dataframe\">\n",
       "  <thead>\n",
       "    <tr style=\"text-align: right;\">\n",
       "      <th></th>\n",
       "      <th>Impression</th>\n",
       "      <th>Click</th>\n",
       "      <th>Purchase</th>\n",
       "      <th>Earning</th>\n",
       "    </tr>\n",
       "  </thead>\n",
       "  <tbody>\n",
       "    <tr>\n",
       "      <th>0</th>\n",
       "      <td>82529</td>\n",
       "      <td>6090</td>\n",
       "      <td>665</td>\n",
       "      <td>2311</td>\n",
       "    </tr>\n",
       "    <tr>\n",
       "      <th>1</th>\n",
       "      <td>98050</td>\n",
       "      <td>3383</td>\n",
       "      <td>315</td>\n",
       "      <td>1743</td>\n",
       "    </tr>\n",
       "    <tr>\n",
       "      <th>2</th>\n",
       "      <td>82696</td>\n",
       "      <td>4168</td>\n",
       "      <td>458</td>\n",
       "      <td>1798</td>\n",
       "    </tr>\n",
       "    <tr>\n",
       "      <th>3</th>\n",
       "      <td>109914</td>\n",
       "      <td>4911</td>\n",
       "      <td>487</td>\n",
       "      <td>1696</td>\n",
       "    </tr>\n",
       "    <tr>\n",
       "      <th>4</th>\n",
       "      <td>108458</td>\n",
       "      <td>5988</td>\n",
       "      <td>441</td>\n",
       "      <td>1544</td>\n",
       "    </tr>\n",
       "  </tbody>\n",
       "</table>\n",
       "</div>"
      ],
      "text/plain": [
       "   Impression  Click  Purchase  Earning\n",
       "0       82529   6090       665     2311\n",
       "1       98050   3383       315     1743\n",
       "2       82696   4168       458     1798\n",
       "3      109914   4911       487     1696\n",
       "4      108458   5988       441     1544"
      ]
     },
     "execution_count": 6,
     "metadata": {},
     "output_type": "execute_result"
    }
   ],
   "source": [
    "a_group = pd.read_csv(\"data/control_group.csv\")\n",
    "b_group = pd.read_csv(\"data/test_group.csv\")\n",
    "\n",
    "print(f\"Длина датасета A: {len(a_group)}\")\n",
    "print(f\"Длина датасета B: {len(b_group)}\")\n",
    "a_group.head()"
   ]
  },
  {
   "cell_type": "code",
   "execution_count": 5,
   "metadata": {},
   "outputs": [
    {
     "data": {
      "text/html": [
       "<div>\n",
       "<style scoped>\n",
       "    .dataframe tbody tr th:only-of-type {\n",
       "        vertical-align: middle;\n",
       "    }\n",
       "\n",
       "    .dataframe tbody tr th {\n",
       "        vertical-align: top;\n",
       "    }\n",
       "\n",
       "    .dataframe thead th {\n",
       "        text-align: right;\n",
       "    }\n",
       "</style>\n",
       "<table border=\"1\" class=\"dataframe\">\n",
       "  <thead>\n",
       "    <tr style=\"text-align: right;\">\n",
       "      <th></th>\n",
       "      <th>Impression</th>\n",
       "      <th>Click</th>\n",
       "      <th>Purchase</th>\n",
       "      <th>Earning</th>\n",
       "    </tr>\n",
       "  </thead>\n",
       "  <tbody>\n",
       "    <tr>\n",
       "      <th>count</th>\n",
       "      <td>40.000000</td>\n",
       "      <td>40.000000</td>\n",
       "      <td>40.000000</td>\n",
       "      <td>40.000000</td>\n",
       "    </tr>\n",
       "    <tr>\n",
       "      <th>mean</th>\n",
       "      <td>101711.450000</td>\n",
       "      <td>5100.625000</td>\n",
       "      <td>550.900000</td>\n",
       "      <td>1908.575000</td>\n",
       "    </tr>\n",
       "    <tr>\n",
       "      <th>std</th>\n",
       "      <td>20302.122984</td>\n",
       "      <td>1329.957772</td>\n",
       "      <td>134.110517</td>\n",
       "      <td>302.868329</td>\n",
       "    </tr>\n",
       "    <tr>\n",
       "      <th>min</th>\n",
       "      <td>45476.000000</td>\n",
       "      <td>2190.000000</td>\n",
       "      <td>267.000000</td>\n",
       "      <td>1254.000000</td>\n",
       "    </tr>\n",
       "    <tr>\n",
       "      <th>25%</th>\n",
       "      <td>85726.750000</td>\n",
       "      <td>4124.250000</td>\n",
       "      <td>470.500000</td>\n",
       "      <td>1685.750000</td>\n",
       "    </tr>\n",
       "    <tr>\n",
       "      <th>50%</th>\n",
       "      <td>99790.500000</td>\n",
       "      <td>5001.500000</td>\n",
       "      <td>531.500000</td>\n",
       "      <td>1975.000000</td>\n",
       "    </tr>\n",
       "    <tr>\n",
       "      <th>75%</th>\n",
       "      <td>115212.500000</td>\n",
       "      <td>5923.500000</td>\n",
       "      <td>638.000000</td>\n",
       "      <td>2120.000000</td>\n",
       "    </tr>\n",
       "    <tr>\n",
       "      <th>max</th>\n",
       "      <td>147539.000000</td>\n",
       "      <td>7959.000000</td>\n",
       "      <td>802.000000</td>\n",
       "      <td>2497.000000</td>\n",
       "    </tr>\n",
       "  </tbody>\n",
       "</table>\n",
       "</div>"
      ],
      "text/plain": [
       "          Impression        Click    Purchase      Earning\n",
       "count      40.000000    40.000000   40.000000    40.000000\n",
       "mean   101711.450000  5100.625000  550.900000  1908.575000\n",
       "std     20302.122984  1329.957772  134.110517   302.868329\n",
       "min     45476.000000  2190.000000  267.000000  1254.000000\n",
       "25%     85726.750000  4124.250000  470.500000  1685.750000\n",
       "50%     99790.500000  5001.500000  531.500000  1975.000000\n",
       "75%    115212.500000  5923.500000  638.000000  2120.000000\n",
       "max    147539.000000  7959.000000  802.000000  2497.000000"
      ]
     },
     "execution_count": 5,
     "metadata": {},
     "output_type": "execute_result"
    }
   ],
   "source": [
    "a_group.describe()"
   ]
  },
  {
   "cell_type": "code",
   "execution_count": 7,
   "metadata": {},
   "outputs": [
    {
     "data": {
      "text/html": [
       "<div>\n",
       "<style scoped>\n",
       "    .dataframe tbody tr th:only-of-type {\n",
       "        vertical-align: middle;\n",
       "    }\n",
       "\n",
       "    .dataframe tbody tr th {\n",
       "        vertical-align: top;\n",
       "    }\n",
       "\n",
       "    .dataframe thead th {\n",
       "        text-align: right;\n",
       "    }\n",
       "</style>\n",
       "<table border=\"1\" class=\"dataframe\">\n",
       "  <thead>\n",
       "    <tr style=\"text-align: right;\">\n",
       "      <th></th>\n",
       "      <th>Impression</th>\n",
       "      <th>Click</th>\n",
       "      <th>Purchase</th>\n",
       "      <th>Earning</th>\n",
       "    </tr>\n",
       "  </thead>\n",
       "  <tbody>\n",
       "    <tr>\n",
       "      <th>count</th>\n",
       "      <td>40.000000</td>\n",
       "      <td>40.000000</td>\n",
       "      <td>40.000000</td>\n",
       "      <td>40.000000</td>\n",
       "    </tr>\n",
       "    <tr>\n",
       "      <th>mean</th>\n",
       "      <td>120512.425000</td>\n",
       "      <td>3967.550000</td>\n",
       "      <td>582.050000</td>\n",
       "      <td>2514.925000</td>\n",
       "    </tr>\n",
       "    <tr>\n",
       "      <th>std</th>\n",
       "      <td>18807.466616</td>\n",
       "      <td>923.071766</td>\n",
       "      <td>161.175164</td>\n",
       "      <td>282.707912</td>\n",
       "    </tr>\n",
       "    <tr>\n",
       "      <th>min</th>\n",
       "      <td>79034.000000</td>\n",
       "      <td>1837.000000</td>\n",
       "      <td>312.000000</td>\n",
       "      <td>1940.000000</td>\n",
       "    </tr>\n",
       "    <tr>\n",
       "      <th>25%</th>\n",
       "      <td>112692.250000</td>\n",
       "      <td>3376.500000</td>\n",
       "      <td>444.750000</td>\n",
       "      <td>2280.250000</td>\n",
       "    </tr>\n",
       "    <tr>\n",
       "      <th>50%</th>\n",
       "      <td>119291.500000</td>\n",
       "      <td>3931.500000</td>\n",
       "      <td>551.000000</td>\n",
       "      <td>2544.500000</td>\n",
       "    </tr>\n",
       "    <tr>\n",
       "      <th>75%</th>\n",
       "      <td>132050.750000</td>\n",
       "      <td>4660.250000</td>\n",
       "      <td>699.750000</td>\n",
       "      <td>2761.750000</td>\n",
       "    </tr>\n",
       "    <tr>\n",
       "      <th>max</th>\n",
       "      <td>158606.000000</td>\n",
       "      <td>6020.000000</td>\n",
       "      <td>890.000000</td>\n",
       "      <td>3171.000000</td>\n",
       "    </tr>\n",
       "  </tbody>\n",
       "</table>\n",
       "</div>"
      ],
      "text/plain": [
       "          Impression        Click    Purchase      Earning\n",
       "count      40.000000    40.000000   40.000000    40.000000\n",
       "mean   120512.425000  3967.550000  582.050000  2514.925000\n",
       "std     18807.466616   923.071766  161.175164   282.707912\n",
       "min     79034.000000  1837.000000  312.000000  1940.000000\n",
       "25%    112692.250000  3376.500000  444.750000  2280.250000\n",
       "50%    119291.500000  3931.500000  551.000000  2544.500000\n",
       "75%    132050.750000  4660.250000  699.750000  2761.750000\n",
       "max    158606.000000  6020.000000  890.000000  3171.000000"
      ]
     },
     "execution_count": 7,
     "metadata": {},
     "output_type": "execute_result"
    }
   ],
   "source": [
    "b_group.describe()"
   ]
  },
  {
   "cell_type": "markdown",
   "metadata": {},
   "source": [
    "Среднее кол-во просмотров в группе B больше, кол-во кликов - меньше, кол-во покупок и заработок - больше "
   ]
  },
  {
   "cell_type": "markdown",
   "metadata": {},
   "source": [
    "## Визуализация графиков"
   ]
  },
  {
   "cell_type": "code",
   "execution_count": 9,
   "metadata": {},
   "outputs": [
    {
     "data": {
      "text/html": [
       "<div>\n",
       "<style scoped>\n",
       "    .dataframe tbody tr th:only-of-type {\n",
       "        vertical-align: middle;\n",
       "    }\n",
       "\n",
       "    .dataframe tbody tr th {\n",
       "        vertical-align: top;\n",
       "    }\n",
       "\n",
       "    .dataframe thead th {\n",
       "        text-align: right;\n",
       "    }\n",
       "</style>\n",
       "<table border=\"1\" class=\"dataframe\">\n",
       "  <thead>\n",
       "    <tr style=\"text-align: right;\">\n",
       "      <th></th>\n",
       "      <th>Impression</th>\n",
       "      <th>Click</th>\n",
       "      <th>Purchase</th>\n",
       "      <th>Earning</th>\n",
       "      <th>Group</th>\n",
       "    </tr>\n",
       "  </thead>\n",
       "  <tbody>\n",
       "    <tr>\n",
       "      <th>0</th>\n",
       "      <td>82529</td>\n",
       "      <td>6090</td>\n",
       "      <td>665</td>\n",
       "      <td>2311</td>\n",
       "      <td>A</td>\n",
       "    </tr>\n",
       "    <tr>\n",
       "      <th>1</th>\n",
       "      <td>98050</td>\n",
       "      <td>3383</td>\n",
       "      <td>315</td>\n",
       "      <td>1743</td>\n",
       "      <td>A</td>\n",
       "    </tr>\n",
       "    <tr>\n",
       "      <th>2</th>\n",
       "      <td>82696</td>\n",
       "      <td>4168</td>\n",
       "      <td>458</td>\n",
       "      <td>1798</td>\n",
       "      <td>A</td>\n",
       "    </tr>\n",
       "    <tr>\n",
       "      <th>3</th>\n",
       "      <td>109914</td>\n",
       "      <td>4911</td>\n",
       "      <td>487</td>\n",
       "      <td>1696</td>\n",
       "      <td>A</td>\n",
       "    </tr>\n",
       "    <tr>\n",
       "      <th>4</th>\n",
       "      <td>108458</td>\n",
       "      <td>5988</td>\n",
       "      <td>441</td>\n",
       "      <td>1544</td>\n",
       "      <td>A</td>\n",
       "    </tr>\n",
       "    <tr>\n",
       "      <th>...</th>\n",
       "      <td>...</td>\n",
       "      <td>...</td>\n",
       "      <td>...</td>\n",
       "      <td>...</td>\n",
       "      <td>...</td>\n",
       "    </tr>\n",
       "    <tr>\n",
       "      <th>35</th>\n",
       "      <td>79235</td>\n",
       "      <td>6002</td>\n",
       "      <td>382</td>\n",
       "      <td>2278</td>\n",
       "      <td>B</td>\n",
       "    </tr>\n",
       "    <tr>\n",
       "      <th>36</th>\n",
       "      <td>130702</td>\n",
       "      <td>3626</td>\n",
       "      <td>450</td>\n",
       "      <td>2531</td>\n",
       "      <td>B</td>\n",
       "    </tr>\n",
       "    <tr>\n",
       "      <th>37</th>\n",
       "      <td>116482</td>\n",
       "      <td>4703</td>\n",
       "      <td>472</td>\n",
       "      <td>2598</td>\n",
       "      <td>B</td>\n",
       "    </tr>\n",
       "    <tr>\n",
       "      <th>38</th>\n",
       "      <td>79034</td>\n",
       "      <td>4495</td>\n",
       "      <td>425</td>\n",
       "      <td>2596</td>\n",
       "      <td>B</td>\n",
       "    </tr>\n",
       "    <tr>\n",
       "      <th>39</th>\n",
       "      <td>102257</td>\n",
       "      <td>4800</td>\n",
       "      <td>521</td>\n",
       "      <td>2968</td>\n",
       "      <td>B</td>\n",
       "    </tr>\n",
       "  </tbody>\n",
       "</table>\n",
       "<p>80 rows × 5 columns</p>\n",
       "</div>"
      ],
      "text/plain": [
       "    Impression  Click  Purchase  Earning Group\n",
       "0        82529   6090       665     2311     A\n",
       "1        98050   3383       315     1743     A\n",
       "2        82696   4168       458     1798     A\n",
       "3       109914   4911       487     1696     A\n",
       "4       108458   5988       441     1544     A\n",
       "..         ...    ...       ...      ...   ...\n",
       "35       79235   6002       382     2278     B\n",
       "36      130702   3626       450     2531     B\n",
       "37      116482   4703       472     2598     B\n",
       "38       79034   4495       425     2596     B\n",
       "39      102257   4800       521     2968     B\n",
       "\n",
       "[80 rows x 5 columns]"
      ]
     },
     "execution_count": 9,
     "metadata": {},
     "output_type": "execute_result"
    }
   ],
   "source": [
    "a_group[\"Group\"] = \"A\"\n",
    "b_group[\"Group\"] = \"B\"\n",
    "\n",
    "data = pd.concat([a_group, b_group])"
   ]
  },
  {
   "cell_type": "code",
   "execution_count": 13,
   "metadata": {},
   "outputs": [
    {
     "data": {
      "image/png": "[encoded data removed]",
      "text/plain": [
       "<Figure size 640x480 with 1 Axes>"
      ]
     },
     "metadata": {},
     "output_type": "display_data"
    },
    {
     "data": {
      "image/png": "[encoded data removed]",
      "text/plain": [
       "<Figure size 640x480 with 1 Axes>"
      ]
     },
     "metadata": {},
     "output_type": "display_data"
    },
    {
     "data": {
      "image/png": "[encoded data removed]",
      "text/plain": [
       "<Figure size 640x480 with 1 Axes>"
      ]
     },
     "metadata": {},
     "output_type": "display_data"
    },
    {
     "data": {
      "image/png": "[encoded data removed]",
      "text/plain": [
       "<Figure size 640x480 with 1 Axes>"
      ]
     },
     "metadata": {},
     "output_type": "display_data"
    }
   ],
   "source": [
    "def visual_boxplot(feature):\n",
    "    sns.boxplot(data=data, x=feature, hue=\"Group\")\n",
    "    plt.title(f\"Распределение показателя: {feature}\")\n",
    "    plt.show()\n",
    "\n",
    "for feature in data.columns[:-1]:\n",
    "    visual_boxplot(feature)"
   ]
  },
  {
   "cell_type": "markdown",
   "metadata": {},
   "source": [
    "Первичные выводы:\n",
    "* Кол-во показов больше у группы B\n",
    "* Кол-во кликов больше у группы A\n",
    "* Кол-во покупок больше у группы B\n",
    "* Кол-во заработанных денег больше с группы B"
   ]
  },
  {
   "cell_type": "markdown",
   "metadata": {},
   "source": [
    "### Добавление новых метрик"
   ]
  },
  {
   "cell_type": "code",
   "execution_count": null,
   "metadata": {},
   "outputs": [],
   "source": [
    "data[\"CTR\"] = data[\"Click\"] / data[\"Impression\"] # Кликабельность = Клики / Показы\n",
    "data[\"CR\"] = data[\"Purchase\"] / data[\"Click\"] # Конверсия = Покупки / Клики"
   ]
  },
  {
   "cell_type": "code",
   "execution_count": 16,
   "metadata": {},
   "outputs": [
    {
     "data": {
      "image/png": "[encoded data removed]",
      "text/plain": [
       "<Figure size 640x480 with 1 Axes>"
      ]
     },
     "metadata": {},
     "output_type": "display_data"
    },
    {
     "data": {
      "image/png": "[encoded data removed]",
      "text/plain": [
       "<Figure size 640x480 with 1 Axes>"
      ]
     },
     "metadata": {},
     "output_type": "display_data"
    }
   ],
   "source": [
    "visual_boxplot(\"CTR\")\n",
    "visual_boxplot(\"CR\")"
   ]
  },
  {
   "cell_type": "markdown",
   "metadata": {},
   "source": [
    "## Есть ли значимые различия между CTR в группах A и B?\n",
    "\n",
    "* H0: Различие между CTR в группах A и B не является статистически значимым\n",
    "* H1: Различие между CTR в группах A и B является статистически значимым"
   ]
  },
  {
   "cell_type": "markdown",
   "metadata": {},
   "source": [
    "### Проверка t-теста"
   ]
  },
  {
   "cell_type": "code",
   "execution_count": 17,
   "metadata": {},
   "outputs": [],
   "source": [
    "from scipy.stats import ttest_ind"
   ]
  },
  {
   "cell_type": "code",
   "execution_count": null,
   "metadata": {},
   "outputs": [],
   "source": [
    "n = 1000\n",
    "result = []\n",
    "for i in range(n):\n",
    "    a = data[\"CTR\"].sample(frac=0.5, replace=True, random_state=i) # Выборка в 40 значений\n",
    "    b = data[\"CTR\"].sample(frac=0.5, replace=True, random_state=n-i) # Выборка в 40 значений\n",
    "    p_value = ttest_ind(a, b, equal_var=False, alternative=\"two-sided\")[1] # P-value (Потенциальный FPR)\n",
    "    result.append([a.mean(), b.mean(), abs(a.mean() - b.mean()), p_value])\n",
    "\n",
    "result_df = pd.DataFrame(result, columns=[\"Среднее A\", \"Среднее B\", \"Разница\", \"P-value\"])"
   ]
  },
  {
   "cell_type": "code",
   "execution_count": null,
   "metadata": {},
   "outputs": [
    {
     "data": {
      "text/plain": [
       "0.046"
      ]
     },
     "execution_count": 28,
     "metadata": {},
     "output_type": "execute_result"
    }
   ],
   "source": [
    "(result_df[\"P-value\"] < 0.05).mean() # Настоящий FPR"
   ]
  },
  {
   "cell_type": "markdown",
   "metadata": {},
   "source": [
    "Отлично, в нашем случае размер выборки подходит, так как p-value в t-тесте не больше чем настоящий FPR."
   ]
  },
  {
   "cell_type": "markdown",
   "metadata": {},
   "source": [
    "### Проверка гипотезы"
   ]
  },
  {
   "cell_type": "code",
   "execution_count": 31,
   "metadata": {},
   "outputs": [
    {
     "name": "stdout",
     "output_type": "stream",
     "text": [
      "Разница между средним CTR групп B и A:  -0.0194417478069532\n",
      "T-тест для групп A и B: p-value - 4.2225336432787495e-05; различие значимо - True\n"
     ]
    }
   ],
   "source": [
    "a_ctr = data[data[\"Group\"] == \"A\"][\"CTR\"]\n",
    "b_ctr = data[data[\"Group\"] == \"B\"][\"CTR\"]\n",
    "\n",
    "print(\"Разница между средним CTR групп B и A: \", b_ctr.mean() - a_ctr.mean())\n",
    "\n",
    "p_value = ttest_ind(a_ctr, b_ctr, equal_var=False, alternative=\"two-sided\")[1]\n",
    "print(f\"T-тест для групп A и B: p-value - {p_value}; различие значимо - {p_value < 0.05}\")"
   ]
  },
  {
   "cell_type": "markdown",
   "metadata": {},
   "source": [
    "Вывод: разница есть и CTR в группе меньше, что является не очень хорошим показателем новой рекламы."
   ]
  },
  {
   "cell_type": "markdown",
   "metadata": {},
   "source": [
    "## Есть ли значимое различие между Конверсией (CR) в группах A и B?\n",
    "\n",
    "* H0: Различие между CR в группах A и B не является статистически значимым\n",
    "* H1: Различие между CR в группах A и B является статистически значимым"
   ]
  },
  {
   "cell_type": "markdown",
   "metadata": {},
   "source": [
    "### Проверка гипотезы"
   ]
  },
  {
   "cell_type": "code",
   "execution_count": 32,
   "metadata": {},
   "outputs": [
    {
     "name": "stdout",
     "output_type": "stream",
     "text": [
      "Разница между средним CR групп B и A:  0.04062725329249067\n",
      "T-тест для групп A и B: p-value - 0.0025208815613046824; различие значимо - True\n"
     ]
    }
   ],
   "source": [
    "a_cr = data[data[\"Group\"] == \"A\"][\"CR\"]\n",
    "b_cr = data[data[\"Group\"] == \"B\"][\"CR\"]\n",
    "\n",
    "print(\"Разница между средним CR групп B и A: \", b_cr.mean() - a_cr.mean())\n",
    "\n",
    "p_value = ttest_ind(a_cr, b_cr, equal_var=False, alternative=\"two-sided\")[1]\n",
    "print(f\"T-тест для групп A и B: p-value - {p_value}; различие значимо - {p_value < 0.05}\")"
   ]
  }
 ],
 "metadata": {
  "kernelspec": {
   "display_name": "Python 3",
   "language": "python",
   "name": "python3"
  },
  "language_info": {
   "codemirror_mode": {
    "name": "ipython",
    "version": 3
   },
   "file_extension": ".py",
   "mimetype": "text/x-python",
   "name": "python",
   "nbconvert_exporter": "python",
   "pygments_lexer": "ipython3",
   "version": "3.11.9"
  }
 },
 "nbformat": 4,
 "nbformat_minor": 2
}
